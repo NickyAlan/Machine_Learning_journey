{
 "cells": [
  {
   "cell_type": "markdown",
   "metadata": {},
   "source": [
    "# Introduce into Machine Learning World\n",
    "instead of program or set a rule for find what a picture of cat(it's really hard and complicated), we use math or algorithm find the data pattern to done the task.\n",
    "\n",
    "* Supervised Learning : you have data and labels, use data to predict labels ex. classification, regrssion.\n",
    "* Unsupervised Learning : have only data, use data try to find group then apply a lebels is called *clustering*.\n",
    "* Transfer Learning : model B try to learn from model A and get it better or apply for a similar task.\n",
    "* Reinforcement Learning : reward or punishment ex. alphago."
   ]
  }
 ],
 "metadata": {
  "interpreter": {
   "hash": "b572caadb8bd68b0a5f9ddee202b3becd15d80e56a230202715712ddf00ae820"
  },
  "kernelspec": {
   "display_name": "Python 3.9.12",
   "language": "python",
   "name": "python3"
  },
  "language_info": {
   "codemirror_mode": {
    "name": "ipython",
    "version": 3
   },
   "file_extension": ".py",
   "mimetype": "text/x-python",
   "name": "python",
   "nbconvert_exporter": "python",
   "pygments_lexer": "ipython3",
   "version": "3.9.12"
  },
  "orig_nbformat": 4
 },
 "nbformat": 4,
 "nbformat_minor": 2
}
